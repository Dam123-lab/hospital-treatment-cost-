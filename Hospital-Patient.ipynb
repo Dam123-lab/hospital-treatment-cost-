{
 "cells": [
  {
   "cell_type": "markdown",
   "id": "678baa2f-02d2-4f88-95a0-1be19cc25342",
   "metadata": {},
   "source": [
    "By Ibiwumi D.Kolawole\r\n",
    "Data Analyst / Food Scientist\r\n",
    "Topic: Healthcare Utilization and Cost Patterns by Demographics, Diagnosis, and Insurance Status\r\n",
    "This healthcare dataset provides insights into the following areas:\r\n",
    "The average cost of treatment across various diagnoses.\r\n",
    "The most common diagnoses among different age groups and genders.\r\n",
    "The departments with the highest and lowest number of patients.\r\n",
    "The departments with the highest and lowest total treatment costs.\r\n",
    "The cost differences between insured and uninsured paents.\r\n",
    "s?\r\n"
   ]
  },
  {
   "cell_type": "code",
   "execution_count": 1,
   "id": "b59f9447-3acc-45ed-a63d-8547335dadd2",
   "metadata": {},
   "outputs": [],
   "source": [
    "import pandas as pd"
   ]
  },
  {
   "cell_type": "code",
   "execution_count": 2,
   "id": "f740d9d9-aa15-4582-a9f8-c7b687ee095a",
   "metadata": {},
   "outputs": [
    {
     "data": {
      "text/html": [
       "<div>\n",
       "<style scoped>\n",
       "    .dataframe tbody tr th:only-of-type {\n",
       "        vertical-align: middle;\n",
       "    }\n",
       "\n",
       "    .dataframe tbody tr th {\n",
       "        vertical-align: top;\n",
       "    }\n",
       "\n",
       "    .dataframe thead th {\n",
       "        text-align: right;\n",
       "    }\n",
       "</style>\n",
       "<table border=\"1\" class=\"dataframe\">\n",
       "  <thead>\n",
       "    <tr style=\"text-align: right;\">\n",
       "      <th></th>\n",
       "      <th>Patient_ID</th>\n",
       "      <th>Gender</th>\n",
       "      <th>Age</th>\n",
       "      <th>Diagnosis</th>\n",
       "      <th>Department</th>\n",
       "      <th>Treatment_Cost</th>\n",
       "      <th>Insurance</th>\n",
       "    </tr>\n",
       "  </thead>\n",
       "  <tbody>\n",
       "    <tr>\n",
       "      <th>0</th>\n",
       "      <td>HID1000</td>\n",
       "      <td>Other</td>\n",
       "      <td>19</td>\n",
       "      <td>Diabetes</td>\n",
       "      <td>Emergency</td>\n",
       "      <td>1405.54</td>\n",
       "      <td>Yes</td>\n",
       "    </tr>\n",
       "    <tr>\n",
       "      <th>1</th>\n",
       "      <td>HID1001</td>\n",
       "      <td>Male</td>\n",
       "      <td>20</td>\n",
       "      <td>Fracture</td>\n",
       "      <td>Emergency</td>\n",
       "      <td>3530.27</td>\n",
       "      <td>No</td>\n",
       "    </tr>\n",
       "    <tr>\n",
       "      <th>2</th>\n",
       "      <td>HID1002</td>\n",
       "      <td>Male</td>\n",
       "      <td>23</td>\n",
       "      <td>Fracture</td>\n",
       "      <td>Emergency</td>\n",
       "      <td>4532.63</td>\n",
       "      <td>Yes</td>\n",
       "    </tr>\n",
       "  </tbody>\n",
       "</table>\n",
       "</div>"
      ],
      "text/plain": [
       "  Patient_ID Gender  Age Diagnosis Department  Treatment_Cost Insurance\n",
       "0    HID1000  Other   19  Diabetes  Emergency         1405.54       Yes\n",
       "1    HID1001   Male   20  Fracture  Emergency         3530.27        No\n",
       "2    HID1002   Male   23  Fracture  Emergency         4532.63       Yes"
      ]
     },
     "execution_count": 2,
     "metadata": {},
     "output_type": "execute_result"
    }
   ],
   "source": [
    "health_data=pd.read_csv('Healthcare-diagnosis.csv', delimiter=';')\n",
    "health_data.head(3)"
   ]
  },
  {
   "cell_type": "markdown",
   "id": "60ce3661-b8ec-4e8f-82dc-29c2c10a856a",
   "metadata": {},
   "source": [
    "Analysing the number of patients that each department received"
   ]
  },
  {
   "cell_type": "code",
   "execution_count": 3,
   "id": "f0287ba1-e8b8-4383-b7a7-0b0021fc756b",
   "metadata": {},
   "outputs": [
    {
     "data": {
      "text/plain": [
       "Department\n",
       "Cardiology     376\n",
       "Emergency      438\n",
       "General        393\n",
       "Orthopedics    404\n",
       "Pediatrics     389\n",
       "Name: Patient_ID, dtype: int64"
      ]
     },
     "execution_count": 3,
     "metadata": {},
     "output_type": "execute_result"
    }
   ],
   "source": [
    "department_by_no_of_patients=health_data.groupby('Department')['Patient_ID'].count()\n",
    "department_by_no_of_patients"
   ]
  },
  {
   "cell_type": "markdown",
   "id": "090f89bf-bd8f-4b93-83b2-df8aa105c666",
   "metadata": {},
   "source": [
    "Counting the number of patients per diagnosis"
   ]
  },
  {
   "cell_type": "code",
   "execution_count": 4,
   "id": "0e236ee5-3a30-4dc7-b8d2-c23f982045a2",
   "metadata": {},
   "outputs": [
    {
     "data": {
      "text/plain": [
       "Diagnosis\n",
       "Asthma          329\n",
       "Covid-19        309\n",
       "Diabetes        326\n",
       "Flu             323\n",
       "Fracture        371\n",
       "Hypertension    342\n",
       "Name: Patient_ID, dtype: int64"
      ]
     },
     "execution_count": 4,
     "metadata": {},
     "output_type": "execute_result"
    }
   ],
   "source": [
    "diagnosis_by_no_of_patients=health_data.groupby('Diagnosis')['Patient_ID'].count()\n",
    "diagnosis_by_no_of_patients"
   ]
  },
  {
   "cell_type": "markdown",
   "id": "784b1340-1b28-46f5-a170-fa27e2511a89",
   "metadata": {},
   "source": [
    "Analysing the department that receive the highest and lowest number of patients"
   ]
  },
  {
   "cell_type": "code",
   "execution_count": 5,
   "id": "4b483263-b04c-4137-bb38-f264a22c7b2d",
   "metadata": {},
   "outputs": [
    {
     "name": "stdout",
     "output_type": "stream",
     "text": [
      "The department with the highest number of patient:Emergency(438)\n"
     ]
    }
   ],
   "source": [
    "department_with_patients_no=health_data.groupby('Department')['Diagnosis'].count()\n",
    "department_with_maxnumber_of_patients=department_with_patients_no.idxmax()\n",
    "department_maximum_no=department_with_patients_no.max()\n",
    "print(f\"The department with the highest number of patient:{department_with_maxnumber_of_patients}({department_maximum_no})\")"
   ]
  },
  {
   "cell_type": "code",
   "execution_count": 6,
   "id": "1424f4a1-18af-4a7d-a2bc-bf03424b75a8",
   "metadata": {},
   "outputs": [
    {
     "name": "stdout",
     "output_type": "stream",
     "text": [
      "The department with the lowest number of patient:Cardiology(376)\n"
     ]
    }
   ],
   "source": [
    "department_with_patients_no=health_data.groupby('Department')['Diagnosis'].count()\n",
    "department_with_minnumber_of_patients=department_with_patients_no.idxmin()\n",
    "department_minimum_no=department_with_patients_no.min()\n",
    "print(f\"The department with the lowest number of patient:{department_with_minnumber_of_patients}({department_minimum_no})\")"
   ]
  },
  {
   "cell_type": "markdown",
   "id": "8c6720f6-27a9-411b-88e0-632e499d3891",
   "metadata": {},
   "source": [
    "Finding the average cost of treatment per diagnosis"
   ]
  },
  {
   "cell_type": "code",
   "execution_count": 7,
   "id": "26c759ce-3a22-4840-bb5c-523ae6acbebd",
   "metadata": {},
   "outputs": [
    {
     "data": {
      "text/plain": [
       "Diagnosis\n",
       "Asthma          2533.63\n",
       "Covid-19        2603.26\n",
       "Diabetes        2527.23\n",
       "Flu             2447.38\n",
       "Fracture        2642.13\n",
       "Hypertension    2492.77\n",
       "Name: Treatment_Cost, dtype: float64"
      ]
     },
     "execution_count": 7,
     "metadata": {},
     "output_type": "execute_result"
    }
   ],
   "source": [
    "treatment_per_diagnosis=health_data.groupby('Diagnosis')['Treatment_Cost'].mean().round(2)\n",
    "treatment_per_diagnosis"
   ]
  },
  {
   "cell_type": "markdown",
   "id": "66bb3b5d-cc21-4678-9628-3c7f9899ffbc",
   "metadata": {},
   "source": [
    "Finding the average cost of treament per department"
   ]
  },
  {
   "cell_type": "code",
   "execution_count": 8,
   "id": "f81bef15-a426-40c1-85a4-322fffca663f",
   "metadata": {},
   "outputs": [
    {
     "data": {
      "text/plain": [
       "Department\n",
       "Cardiology     2726.90\n",
       "Emergency      2449.30\n",
       "General        2506.36\n",
       "Orthopedics    2556.21\n",
       "Pediatrics     2491.78\n",
       "Name: Treatment_Cost, dtype: float64"
      ]
     },
     "execution_count": 8,
     "metadata": {},
     "output_type": "execute_result"
    }
   ],
   "source": [
    "treatment_per_department=health_data.groupby('Department')['Treatment_Cost'].mean().round(2)\n",
    "treatment_per_department"
   ]
  },
  {
   "cell_type": "markdown",
   "id": "0a7729dc-9aac-4438-aff2-da0868946a05",
   "metadata": {},
   "source": [
    "diagnosis by on gender"
   ]
  },
  {
   "cell_type": "code",
   "execution_count": 9,
   "id": "776aa130-e8f6-4a52-b1b4-6b3b7f86f1d9",
   "metadata": {},
   "outputs": [
    {
     "data": {
      "text/html": [
       "<div>\n",
       "<style scoped>\n",
       "    .dataframe tbody tr th:only-of-type {\n",
       "        vertical-align: middle;\n",
       "    }\n",
       "\n",
       "    .dataframe tbody tr th {\n",
       "        vertical-align: top;\n",
       "    }\n",
       "\n",
       "    .dataframe thead th {\n",
       "        text-align: right;\n",
       "    }\n",
       "</style>\n",
       "<table border=\"1\" class=\"dataframe\">\n",
       "  <thead>\n",
       "    <tr style=\"text-align: right;\">\n",
       "      <th>Diagnosis</th>\n",
       "      <th>Asthma</th>\n",
       "      <th>Covid-19</th>\n",
       "      <th>Diabetes</th>\n",
       "      <th>Flu</th>\n",
       "      <th>Fracture</th>\n",
       "      <th>Hypertension</th>\n",
       "    </tr>\n",
       "    <tr>\n",
       "      <th>Gender</th>\n",
       "      <th></th>\n",
       "      <th></th>\n",
       "      <th></th>\n",
       "      <th></th>\n",
       "      <th></th>\n",
       "      <th></th>\n",
       "    </tr>\n",
       "  </thead>\n",
       "  <tbody>\n",
       "    <tr>\n",
       "      <th>Female</th>\n",
       "      <td>107</td>\n",
       "      <td>100</td>\n",
       "      <td>125</td>\n",
       "      <td>110</td>\n",
       "      <td>124</td>\n",
       "      <td>109</td>\n",
       "    </tr>\n",
       "    <tr>\n",
       "      <th>Male</th>\n",
       "      <td>115</td>\n",
       "      <td>101</td>\n",
       "      <td>90</td>\n",
       "      <td>96</td>\n",
       "      <td>123</td>\n",
       "      <td>118</td>\n",
       "    </tr>\n",
       "    <tr>\n",
       "      <th>Other</th>\n",
       "      <td>107</td>\n",
       "      <td>108</td>\n",
       "      <td>111</td>\n",
       "      <td>117</td>\n",
       "      <td>124</td>\n",
       "      <td>115</td>\n",
       "    </tr>\n",
       "  </tbody>\n",
       "</table>\n",
       "</div>"
      ],
      "text/plain": [
       "Diagnosis  Asthma  Covid-19  Diabetes  Flu  Fracture  Hypertension\n",
       "Gender                                                            \n",
       "Female        107       100       125  110       124           109\n",
       "Male          115       101        90   96       123           118\n",
       "Other         107       108       111  117       124           115"
      ]
     },
     "execution_count": 9,
     "metadata": {},
     "output_type": "execute_result"
    }
   ],
   "source": [
    "diagnosis_by_gender=health_data.groupby(['Gender','Diagnosis']).size().unstack().fillna(0)\n",
    "diagnosis_by_gender"
   ]
  },
  {
   "cell_type": "markdown",
   "id": "3da397f3-1650-4e4e-b62d-48cd67eb6c17",
   "metadata": {},
   "source": [
    "Analysing the age of the patients"
   ]
  },
  {
   "cell_type": "code",
   "execution_count": 10,
   "id": "f25067e8-3413-4049-8c51-e867cd5dde79",
   "metadata": {},
   "outputs": [
    {
     "name": "stdout",
     "output_type": "stream",
     "text": [
      "The maximum age is: 100\n",
      "The averageage age is: 51.0805\n",
      "The minimum age is:0\n"
     ]
    }
   ],
   "source": [
    "maximum_age=health_data['Age'].max()\n",
    "average_age=health_data['Age'].mean()\n",
    "minimum_age=health_data['Age'].min()\n",
    "print(f\"The maximum age is: {maximum_age}\")\n",
    "print(f\"The averageage age is: {average_age}\")\n",
    "print(f\"The minimum age is:{minimum_age}\")"
   ]
  },
  {
   "cell_type": "markdown",
   "id": "ffb591d7-8808-49d4-afda-f1af9597c4dc",
   "metadata": {},
   "source": [
    "Analysing the diagnoses in each age group"
   ]
  },
  {
   "cell_type": "code",
   "execution_count": 11,
   "id": "9d7a1dde-dc39-4273-a4c1-a40a58b74218",
   "metadata": {},
   "outputs": [
    {
     "data": {
      "text/plain": [
       "0       19-35\n",
       "1       19-35\n",
       "2       19-35\n",
       "3         66+\n",
       "4         66+\n",
       "        ...  \n",
       "1995    36-50\n",
       "1996    36-50\n",
       "1997    36-50\n",
       "1998     0-18\n",
       "1999    36-50\n",
       "Name: Age_Group, Length: 2000, dtype: category\n",
       "Categories (5, object): ['0-18' < '19-35' < '36-50' < '51-65' < '66+']"
      ]
     },
     "execution_count": 11,
     "metadata": {},
     "output_type": "execute_result"
    }
   ],
   "source": [
    "bins = [0, 18, 35, 50, 65, 100]\n",
    "labels = ['0-18', '19-35', '36-50', '51-65', '66+']\n",
    "health_data['Age_Group'] = pd.cut(health_data['Age'], bins=bins, labels=labels)\n",
    "health_data['Age_Group']"
   ]
  },
  {
   "cell_type": "code",
   "execution_count": 12,
   "id": "5f8226b5-da6e-4d4c-a89f-2bfc70a5254f",
   "metadata": {},
   "outputs": [
    {
     "data": {
      "text/html": [
       "<div>\n",
       "<style scoped>\n",
       "    .dataframe tbody tr th:only-of-type {\n",
       "        vertical-align: middle;\n",
       "    }\n",
       "\n",
       "    .dataframe tbody tr th {\n",
       "        vertical-align: top;\n",
       "    }\n",
       "\n",
       "    .dataframe thead th {\n",
       "        text-align: right;\n",
       "    }\n",
       "</style>\n",
       "<table border=\"1\" class=\"dataframe\">\n",
       "  <thead>\n",
       "    <tr style=\"text-align: right;\">\n",
       "      <th>Diagnosis</th>\n",
       "      <th>Asthma</th>\n",
       "      <th>Covid-19</th>\n",
       "      <th>Diabetes</th>\n",
       "      <th>Flu</th>\n",
       "      <th>Fracture</th>\n",
       "      <th>Hypertension</th>\n",
       "    </tr>\n",
       "    <tr>\n",
       "      <th>Age_Group</th>\n",
       "      <th></th>\n",
       "      <th></th>\n",
       "      <th></th>\n",
       "      <th></th>\n",
       "      <th></th>\n",
       "      <th></th>\n",
       "    </tr>\n",
       "  </thead>\n",
       "  <tbody>\n",
       "    <tr>\n",
       "      <th>0-18</th>\n",
       "      <td>55</td>\n",
       "      <td>47</td>\n",
       "      <td>51</td>\n",
       "      <td>62</td>\n",
       "      <td>65</td>\n",
       "      <td>64</td>\n",
       "    </tr>\n",
       "    <tr>\n",
       "      <th>19-35</th>\n",
       "      <td>45</td>\n",
       "      <td>49</td>\n",
       "      <td>63</td>\n",
       "      <td>42</td>\n",
       "      <td>60</td>\n",
       "      <td>45</td>\n",
       "    </tr>\n",
       "    <tr>\n",
       "      <th>36-50</th>\n",
       "      <td>57</td>\n",
       "      <td>50</td>\n",
       "      <td>47</td>\n",
       "      <td>55</td>\n",
       "      <td>57</td>\n",
       "      <td>58</td>\n",
       "    </tr>\n",
       "    <tr>\n",
       "      <th>51-65</th>\n",
       "      <td>54</td>\n",
       "      <td>51</td>\n",
       "      <td>47</td>\n",
       "      <td>51</td>\n",
       "      <td>50</td>\n",
       "      <td>53</td>\n",
       "    </tr>\n",
       "    <tr>\n",
       "      <th>66+</th>\n",
       "      <td>117</td>\n",
       "      <td>109</td>\n",
       "      <td>117</td>\n",
       "      <td>110</td>\n",
       "      <td>133</td>\n",
       "      <td>122</td>\n",
       "    </tr>\n",
       "  </tbody>\n",
       "</table>\n",
       "</div>"
      ],
      "text/plain": [
       "Diagnosis  Asthma  Covid-19  Diabetes  Flu  Fracture  Hypertension\n",
       "Age_Group                                                         \n",
       "0-18           55        47        51   62        65            64\n",
       "19-35          45        49        63   42        60            45\n",
       "36-50          57        50        47   55        57            58\n",
       "51-65          54        51        47   51        50            53\n",
       "66+           117       109       117  110       133           122"
      ]
     },
     "execution_count": 12,
     "metadata": {},
     "output_type": "execute_result"
    }
   ],
   "source": [
    "diagnosis_by_age_group = health_data.groupby(['Age_Group', 'Diagnosis'],observed=True).size().unstack().fillna(0)\n",
    "diagnosis_by_age_group"
   ]
  },
  {
   "cell_type": "markdown",
   "id": "e2cb3b3c-dc10-452c-8b0a-a7ba9baf7ab1",
   "metadata": {},
   "source": [
    "Analysig the department with highest and lowest cost of treatment"
   ]
  },
  {
   "cell_type": "code",
   "execution_count": 13,
   "id": "8f37e5ac-16dc-4e37-a5db-ef94b9d4dfad",
   "metadata": {},
   "outputs": [
    {
     "name": "stdout",
     "output_type": "stream",
     "text": [
      "The department with the highest cost:Emergency($1072791.81)\n"
     ]
    }
   ],
   "source": [
    "total_cost_by_department=health_data.groupby('Department')['Treatment_Cost'].sum()\n",
    "highest_cost_department = total_cost_by_department.idxmax()\n",
    "highest_cost_value = total_cost_by_department.max()\n",
    "print(f\"The department with the highest cost:{highest_cost_department}(${highest_cost_value:.2f})\")"
   ]
  },
  {
   "cell_type": "code",
   "execution_count": 14,
   "id": "1c88579e-ed25-48b2-bd26-2aff3e631b03",
   "metadata": {},
   "outputs": [
    {
     "name": "stdout",
     "output_type": "stream",
     "text": [
      "The department with the lowest cost:Pediatrics($969300.69)\n"
     ]
    }
   ],
   "source": [
    "total_cost_by_department=health_data.groupby('Department')['Treatment_Cost'].sum()\n",
    "lowest_cost_department = total_cost_by_department.idxmin()\n",
    "lowest_cost_value = total_cost_by_department.min()\n",
    "print(f\"The department with the lowest cost:{lowest_cost_department}(${lowest_cost_value:.2f})\")"
   ]
  },
  {
   "cell_type": "markdown",
   "id": "726e9f51-4eca-4d3b-81ee-56c9d79c5ea7",
   "metadata": {},
   "source": [
    "Calculating the percentage of insured patients within each department and diagnosis"
   ]
  },
  {
   "cell_type": "code",
   "execution_count": 15,
   "id": "68f5091f-2862-46ec-81ed-adcfa8348ada",
   "metadata": {},
   "outputs": [
    {
     "data": {
      "text/html": [
       "<div>\n",
       "<style scoped>\n",
       "    .dataframe tbody tr th:only-of-type {\n",
       "        vertical-align: middle;\n",
       "    }\n",
       "\n",
       "    .dataframe tbody tr th {\n",
       "        vertical-align: top;\n",
       "    }\n",
       "\n",
       "    .dataframe thead th {\n",
       "        text-align: right;\n",
       "    }\n",
       "</style>\n",
       "<table border=\"1\" class=\"dataframe\">\n",
       "  <thead>\n",
       "    <tr style=\"text-align: right;\">\n",
       "      <th>Insurance</th>\n",
       "      <th>Yes</th>\n",
       "      <th>No</th>\n",
       "      <th>Insured_Percentage</th>\n",
       "    </tr>\n",
       "    <tr>\n",
       "      <th>Department</th>\n",
       "      <th></th>\n",
       "      <th></th>\n",
       "      <th></th>\n",
       "    </tr>\n",
       "  </thead>\n",
       "  <tbody>\n",
       "    <tr>\n",
       "      <th>Cardiology</th>\n",
       "      <td>200</td>\n",
       "      <td>176</td>\n",
       "      <td>53.19</td>\n",
       "    </tr>\n",
       "    <tr>\n",
       "      <th>Emergency</th>\n",
       "      <td>216</td>\n",
       "      <td>222</td>\n",
       "      <td>49.32</td>\n",
       "    </tr>\n",
       "    <tr>\n",
       "      <th>General</th>\n",
       "      <td>202</td>\n",
       "      <td>191</td>\n",
       "      <td>51.40</td>\n",
       "    </tr>\n",
       "    <tr>\n",
       "      <th>Orthopedics</th>\n",
       "      <td>216</td>\n",
       "      <td>188</td>\n",
       "      <td>53.47</td>\n",
       "    </tr>\n",
       "    <tr>\n",
       "      <th>Pediatrics</th>\n",
       "      <td>187</td>\n",
       "      <td>202</td>\n",
       "      <td>48.07</td>\n",
       "    </tr>\n",
       "  </tbody>\n",
       "</table>\n",
       "</div>"
      ],
      "text/plain": [
       "Insurance    Yes   No  Insured_Percentage\n",
       "Department                               \n",
       "Cardiology   200  176               53.19\n",
       "Emergency    216  222               49.32\n",
       "General      202  191               51.40\n",
       "Orthopedics  216  188               53.47\n",
       "Pediatrics   187  202               48.07"
      ]
     },
     "execution_count": 15,
     "metadata": {},
     "output_type": "execute_result"
    }
   ],
   "source": [
    "insured_by_dept=health_data.groupby(['Department', 'Insurance']).size().unstack().fillna(0)\n",
    "insured_by_dept['Insured_Percentage'] = (insured_by_dept['Yes'] / insured_by_dept.sum(axis=1) * 100).round(2)\n",
    "insured_by_dept[['Yes', 'No', 'Insured_Percentage']]"
   ]
  },
  {
   "cell_type": "code",
   "execution_count": 16,
   "id": "51929127-4d2e-443d-a5e5-1ba20caf8b10",
   "metadata": {},
   "outputs": [
    {
     "data": {
      "text/html": [
       "<div>\n",
       "<style scoped>\n",
       "    .dataframe tbody tr th:only-of-type {\n",
       "        vertical-align: middle;\n",
       "    }\n",
       "\n",
       "    .dataframe tbody tr th {\n",
       "        vertical-align: top;\n",
       "    }\n",
       "\n",
       "    .dataframe thead th {\n",
       "        text-align: right;\n",
       "    }\n",
       "</style>\n",
       "<table border=\"1\" class=\"dataframe\">\n",
       "  <thead>\n",
       "    <tr style=\"text-align: right;\">\n",
       "      <th>Insurance</th>\n",
       "      <th>Yes</th>\n",
       "      <th>No</th>\n",
       "      <th>Insured_Percentage</th>\n",
       "    </tr>\n",
       "    <tr>\n",
       "      <th>Diagnosis</th>\n",
       "      <th></th>\n",
       "      <th></th>\n",
       "      <th></th>\n",
       "    </tr>\n",
       "  </thead>\n",
       "  <tbody>\n",
       "    <tr>\n",
       "      <th>Asthma</th>\n",
       "      <td>177</td>\n",
       "      <td>152</td>\n",
       "      <td>53.80</td>\n",
       "    </tr>\n",
       "    <tr>\n",
       "      <th>Covid-19</th>\n",
       "      <td>154</td>\n",
       "      <td>155</td>\n",
       "      <td>49.84</td>\n",
       "    </tr>\n",
       "    <tr>\n",
       "      <th>Diabetes</th>\n",
       "      <td>170</td>\n",
       "      <td>156</td>\n",
       "      <td>52.15</td>\n",
       "    </tr>\n",
       "    <tr>\n",
       "      <th>Flu</th>\n",
       "      <td>161</td>\n",
       "      <td>162</td>\n",
       "      <td>49.85</td>\n",
       "    </tr>\n",
       "    <tr>\n",
       "      <th>Fracture</th>\n",
       "      <td>178</td>\n",
       "      <td>193</td>\n",
       "      <td>47.98</td>\n",
       "    </tr>\n",
       "    <tr>\n",
       "      <th>Hypertension</th>\n",
       "      <td>181</td>\n",
       "      <td>161</td>\n",
       "      <td>52.92</td>\n",
       "    </tr>\n",
       "  </tbody>\n",
       "</table>\n",
       "</div>"
      ],
      "text/plain": [
       "Insurance     Yes   No  Insured_Percentage\n",
       "Diagnosis                                 \n",
       "Asthma        177  152               53.80\n",
       "Covid-19      154  155               49.84\n",
       "Diabetes      170  156               52.15\n",
       "Flu           161  162               49.85\n",
       "Fracture      178  193               47.98\n",
       "Hypertension  181  161               52.92"
      ]
     },
     "execution_count": 16,
     "metadata": {},
     "output_type": "execute_result"
    }
   ],
   "source": [
    "insured_by_diagnosis=health_data.groupby(['Diagnosis', 'Insurance']).size().unstack().fillna(0)\n",
    "insured_by_diagnosis['Insured_Percentage'] = (insured_by_diagnosis['Yes'] / insured_by_diagnosis.sum(axis=1) * 100).round(2)\n",
    "insured_by_diagnosis[['Yes', 'No', 'Insured_Percentage']]"
   ]
  },
  {
   "cell_type": "markdown",
   "id": "c265dc13-371a-4e3b-a370-8b9ba76ef8fd",
   "metadata": {},
   "source": [
    "Calculating the total treatment cost for insured versus uninsured patients within each diagnosis."
   ]
  },
  {
   "cell_type": "code",
   "execution_count": 17,
   "id": "9fbae5ee-3fde-44d9-83a5-345d6c0b4126",
   "metadata": {},
   "outputs": [
    {
     "data": {
      "text/html": [
       "<div>\n",
       "<style scoped>\n",
       "    .dataframe tbody tr th:only-of-type {\n",
       "        vertical-align: middle;\n",
       "    }\n",
       "\n",
       "    .dataframe tbody tr th {\n",
       "        vertical-align: top;\n",
       "    }\n",
       "\n",
       "    .dataframe thead th {\n",
       "        text-align: right;\n",
       "    }\n",
       "</style>\n",
       "<table border=\"1\" class=\"dataframe\">\n",
       "  <thead>\n",
       "    <tr style=\"text-align: right;\">\n",
       "      <th>Insurance</th>\n",
       "      <th>No</th>\n",
       "      <th>Yes</th>\n",
       "    </tr>\n",
       "    <tr>\n",
       "      <th>Diagnosis</th>\n",
       "      <th></th>\n",
       "      <th></th>\n",
       "    </tr>\n",
       "  </thead>\n",
       "  <tbody>\n",
       "    <tr>\n",
       "      <th>Asthma</th>\n",
       "      <td>392946.45</td>\n",
       "      <td>440619.35</td>\n",
       "    </tr>\n",
       "    <tr>\n",
       "      <th>Covid-19</th>\n",
       "      <td>401717.19</td>\n",
       "      <td>402690.00</td>\n",
       "    </tr>\n",
       "    <tr>\n",
       "      <th>Diabetes</th>\n",
       "      <td>375172.74</td>\n",
       "      <td>448705.41</td>\n",
       "    </tr>\n",
       "    <tr>\n",
       "      <th>Flu</th>\n",
       "      <td>393420.63</td>\n",
       "      <td>397084.09</td>\n",
       "    </tr>\n",
       "    <tr>\n",
       "      <th>Fracture</th>\n",
       "      <td>497281.14</td>\n",
       "      <td>482948.49</td>\n",
       "    </tr>\n",
       "    <tr>\n",
       "      <th>Hypertension</th>\n",
       "      <td>416159.77</td>\n",
       "      <td>436368.70</td>\n",
       "    </tr>\n",
       "  </tbody>\n",
       "</table>\n",
       "</div>"
      ],
      "text/plain": [
       "Insurance            No        Yes\n",
       "Diagnosis                         \n",
       "Asthma        392946.45  440619.35\n",
       "Covid-19      401717.19  402690.00\n",
       "Diabetes      375172.74  448705.41\n",
       "Flu           393420.63  397084.09\n",
       "Fracture      497281.14  482948.49\n",
       "Hypertension  416159.77  436368.70"
      ]
     },
     "execution_count": 17,
     "metadata": {},
     "output_type": "execute_result"
    }
   ],
   "source": [
    "cost_by_diagnosis_insurance = health_data.groupby(['Diagnosis', 'Insurance'])['Treatment_Cost'].sum().unstack().fillna(0).round(2)\n",
    "cost_by_diagnosis_insurance"
   ]
  },
  {
   "cell_type": "markdown",
   "id": "e7bd5438-0210-4680-83cf-2005d6eb8471",
   "metadata": {},
   "source": [
    "Differences in the cost of treatment for each diagnosis with insurance and without insurance"
   ]
  },
  {
   "cell_type": "code",
   "execution_count": 18,
   "id": "b09dfd29-e8ea-4116-a3e8-fd9262d1773f",
   "metadata": {},
   "outputs": [
    {
     "data": {
      "text/plain": [
       "Diagnosis\n",
       "Asthma          47672.90\n",
       "Covid-19          972.81\n",
       "Diabetes        73532.67\n",
       "Flu              3663.46\n",
       "Fracture       -14332.65\n",
       "Hypertension    20208.93\n",
       "Name: Difference, dtype: float64"
      ]
     },
     "execution_count": 18,
     "metadata": {},
     "output_type": "execute_result"
    }
   ],
   "source": [
    "cost_by_diagnosis_insurance['Difference'] = (cost_by_diagnosis_insurance['Yes'] - cost_by_diagnosis_insurance['No']).round(2)\n",
    "cost_by_diagnosis_insurance['Difference']"
   ]
  },
  {
   "cell_type": "markdown",
   "id": "139ec82f-f7ba-4ba6-8f0b-1f3dc154e686",
   "metadata": {},
   "source": [
    " Analysing if difference is statistically significant"
   ]
  },
  {
   "cell_type": "code",
   "execution_count": 19,
   "id": "49a80023-7a22-4f16-9999-7731211248f7",
   "metadata": {},
   "outputs": [],
   "source": [
    "from scipy.stats import ttest_ind"
   ]
  },
  {
   "cell_type": "code",
   "execution_count": 20,
   "id": "fd3ad465-554e-47a6-9961-82c4b23e02dc",
   "metadata": {},
   "outputs": [
    {
     "name": "stdout",
     "output_type": "stream",
     "text": [
      "T-statistic: 0.39, P-value: 0.6953\n"
     ]
    }
   ],
   "source": [
    "insured = health_data[health_data['Insurance'] == 'Yes']['Treatment_Cost']\n",
    "uninsured = health_data[health_data['Insurance'] == 'No']['Treatment_Cost']\n",
    "t_stat, p_value = ttest_ind(insured, uninsured, equal_var=False)\n",
    "print(f\"T-statistic: {t_stat:.2f}, P-value: {p_value:.4f}\")"
   ]
  }
 ],
 "metadata": {
  "kernelspec": {
   "display_name": "Python 3 (ipykernel)",
   "language": "python",
   "name": "python3"
  },
  "language_info": {
   "codemirror_mode": {
    "name": "ipython",
    "version": 3
   },
   "file_extension": ".py",
   "mimetype": "text/x-python",
   "name": "python",
   "nbconvert_exporter": "python",
   "pygments_lexer": "ipython3",
   "version": "3.11.7"
  }
 },
 "nbformat": 4,
 "nbformat_minor": 5
}
